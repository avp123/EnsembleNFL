{
  "cells": [
    {
      "cell_type": "markdown",
      "metadata": {
        "id": "view-in-github",
        "colab_type": "text"
      },
      "source": [
        "<a href=\"https://colab.research.google.com/github/avp123/EnsembleNFL/blob/main/Pre_processing.ipynb\" target=\"_parent\"><img src=\"https://colab.research.google.com/assets/colab-badge.svg\" alt=\"Open In Colab\"/></a>"
      ]
    },
    {
      "cell_type": "code",
      "execution_count": null,
      "metadata": {
        "colab": {
          "base_uri": "https://localhost:8080/"
        },
        "id": "ZNE7n9L9EJZq",
        "outputId": "d5f08d60-8b88-4a48-88be-3b5ab91f43c2"
      },
      "outputs": [
        {
          "output_type": "stream",
          "name": "stdout",
          "text": [
            "Mounted at /content/drive\n"
          ]
        }
      ],
      "source": [
        "import numpy as np\n",
        "import pandas as pd\n",
        "import seaborn as sns\n",
        "import matplotlib.pyplot as plt\n",
        "\n",
        "from google.colab import drive\n",
        "drive.mount('/content/drive')"
      ]
    },
    {
      "cell_type": "code",
      "execution_count": null,
      "metadata": {
        "colab": {
          "base_uri": "https://localhost:8080/"
        },
        "id": "hnhTAAbEEhB2",
        "outputId": "c36324d4-4ef9-4a22-8e76-8f3f9e98dd53"
      },
      "outputs": [
        {
          "output_type": "stream",
          "name": "stdout",
          "text": [
            "catboost_info\t\t       master-boxscore-tracker.xlsx\n",
            "compiled-boxscores.xlsx        removed-na-rows-master-boxscore-tracker1.xlsx\n",
            "master-boxscore-tracker1.xlsx  streamlitDataNFLModel.xlsx\n"
          ]
        }
      ],
      "source": [
        "import os\n",
        "os.chdir(\"/content/drive/MyDrive/Ashray Pamula/data\")\n",
        "!ls"
      ]
    },
    {
      "cell_type": "code",
      "execution_count": null,
      "metadata": {
        "colab": {
          "base_uri": "https://localhost:8080/",
          "height": 522
        },
        "id": "POwUa6vOFFd1",
        "outputId": "8d610592-9dca-40ac-f863-fa9bb7de024f"
      },
      "outputs": [
        {
          "output_type": "execute_result",
          "data": {
            "text/plain": [
              "      Line  Home Favored    Home QBR    Away QBR  Home PPG  Away PPG  \\\n",
              "0      2.0             1    0.000000    0.000000    0.0000    0.0000   \n",
              "1      2.0             0    0.000000    0.000000    0.0000    0.0000   \n",
              "2      3.0             0    0.000000    0.000000    0.0000    0.0000   \n",
              "3      4.5             1    0.000000    0.000000    0.0000    0.0000   \n",
              "4      2.5             1    0.000000    0.000000    0.0000    0.0000   \n",
              "...    ...           ...         ...         ...       ...       ...   \n",
              "4480   0.0             0  107.262404  107.567617   25.6000   30.2000   \n",
              "4481   2.5             1  100.544632   88.934373   23.6250   19.6250   \n",
              "4482   4.0             1   95.188172  113.854167   26.2500   25.1250   \n",
              "4483   8.0             1  107.703672  110.159156   28.6250   25.4375   \n",
              "4484   1.5             0   97.366775  106.547389   24.0625   25.3125   \n",
              "\n",
              "      Home PTS Allowed  Away PTS Allowed   Home TO   Away TO  ...  \\\n",
              "0               0.0000          0.000000  0.000000  0.000000  ...   \n",
              "1               0.0000          0.000000  0.000000  0.000000  ...   \n",
              "2               0.0000          0.000000  0.000000  0.000000  ...   \n",
              "3               0.0000          0.000000  0.000000  0.000000  ...   \n",
              "4               0.0000          0.000000  0.000000  0.000000  ...   \n",
              "...                ...               ...       ...       ...  ...   \n",
              "4480           24.8000         19.266667  1.333333  1.533333  ...   \n",
              "4481           24.0625         16.187500  1.375000  1.187500  ...   \n",
              "4482           14.0625         20.687500  0.937500  1.062500  ...   \n",
              "4483           21.3125         18.937500  0.500000  1.250000  ...   \n",
              "4484           22.1250         24.875000  1.437500  1.250000  ...   \n",
              "\n",
              "      Away Road Win PCT  Home Win Streak  Away Win Streak  Home QBR Advantage  \\\n",
              "0              0.000000                0                0                   1   \n",
              "1              0.000000                0                0                   1   \n",
              "2              0.000000                0                0                   1   \n",
              "3              0.000000                0                0                   1   \n",
              "4              0.000000                0                0                   1   \n",
              "...                 ...              ...              ...                 ...   \n",
              "4480           0.857143                0                1                   0   \n",
              "4481           0.750000                0                0                   1   \n",
              "4482           0.625000                0                1                   0   \n",
              "4483           0.500000                3                0                   0   \n",
              "4484           0.875000                4                0                   0   \n",
              "\n",
              "      Home PPG Advantage  Home PTS Allowed Advantage  Home TO Advantage  \\\n",
              "0                      1                           1                  0   \n",
              "1                      1                           1                  0   \n",
              "2                      1                           1                  0   \n",
              "3                      1                           1                  0   \n",
              "4                      1                           1                  0   \n",
              "...                  ...                         ...                ...   \n",
              "4480                   0                           1                  1   \n",
              "4481                   1                           1                  0   \n",
              "4482                   1                           0                  1   \n",
              "4483                   1                           1                  1   \n",
              "4484                   0                           0                  0   \n",
              "\n",
              "      Home Win PCT Advantage  Dif PPG  Dif PTS Allowed  \n",
              "0                          1   0.0000         0.000000  \n",
              "1                          1   0.0000         0.000000  \n",
              "2                          1   0.0000         0.000000  \n",
              "3                          1   0.0000         0.000000  \n",
              "4                          1   0.0000         0.000000  \n",
              "...                      ...      ...              ...  \n",
              "4480                       0  -4.6000        -5.533333  \n",
              "4481                       1   4.0000        -7.875000  \n",
              "4482                       1   1.1250         6.625000  \n",
              "4483                       1   3.1875        -2.375000  \n",
              "4484                       0  -1.2500         2.750000  \n",
              "\n",
              "[4485 rows x 34 columns]"
            ],
            "text/html": [
              "\n",
              "  <div id=\"df-73e281da-667d-4e33-8eb7-0cd7ccbd415f\">\n",
              "    <div class=\"colab-df-container\">\n",
              "      <div>\n",
              "<style scoped>\n",
              "    .dataframe tbody tr th:only-of-type {\n",
              "        vertical-align: middle;\n",
              "    }\n",
              "\n",
              "    .dataframe tbody tr th {\n",
              "        vertical-align: top;\n",
              "    }\n",
              "\n",
              "    .dataframe thead th {\n",
              "        text-align: right;\n",
              "    }\n",
              "</style>\n",
              "<table border=\"1\" class=\"dataframe\">\n",
              "  <thead>\n",
              "    <tr style=\"text-align: right;\">\n",
              "      <th></th>\n",
              "      <th>Line</th>\n",
              "      <th>Home Favored</th>\n",
              "      <th>Home QBR</th>\n",
              "      <th>Away QBR</th>\n",
              "      <th>Home PPG</th>\n",
              "      <th>Away PPG</th>\n",
              "      <th>Home PTS Allowed</th>\n",
              "      <th>Away PTS Allowed</th>\n",
              "      <th>Home TO</th>\n",
              "      <th>Away TO</th>\n",
              "      <th>...</th>\n",
              "      <th>Away Road Win PCT</th>\n",
              "      <th>Home Win Streak</th>\n",
              "      <th>Away Win Streak</th>\n",
              "      <th>Home QBR Advantage</th>\n",
              "      <th>Home PPG Advantage</th>\n",
              "      <th>Home PTS Allowed Advantage</th>\n",
              "      <th>Home TO Advantage</th>\n",
              "      <th>Home Win PCT Advantage</th>\n",
              "      <th>Dif PPG</th>\n",
              "      <th>Dif PTS Allowed</th>\n",
              "    </tr>\n",
              "  </thead>\n",
              "  <tbody>\n",
              "    <tr>\n",
              "      <th>0</th>\n",
              "      <td>2.0</td>\n",
              "      <td>1</td>\n",
              "      <td>0.000000</td>\n",
              "      <td>0.000000</td>\n",
              "      <td>0.0000</td>\n",
              "      <td>0.0000</td>\n",
              "      <td>0.0000</td>\n",
              "      <td>0.000000</td>\n",
              "      <td>0.000000</td>\n",
              "      <td>0.000000</td>\n",
              "      <td>...</td>\n",
              "      <td>0.000000</td>\n",
              "      <td>0</td>\n",
              "      <td>0</td>\n",
              "      <td>1</td>\n",
              "      <td>1</td>\n",
              "      <td>1</td>\n",
              "      <td>0</td>\n",
              "      <td>1</td>\n",
              "      <td>0.0000</td>\n",
              "      <td>0.000000</td>\n",
              "    </tr>\n",
              "    <tr>\n",
              "      <th>1</th>\n",
              "      <td>2.0</td>\n",
              "      <td>0</td>\n",
              "      <td>0.000000</td>\n",
              "      <td>0.000000</td>\n",
              "      <td>0.0000</td>\n",
              "      <td>0.0000</td>\n",
              "      <td>0.0000</td>\n",
              "      <td>0.000000</td>\n",
              "      <td>0.000000</td>\n",
              "      <td>0.000000</td>\n",
              "      <td>...</td>\n",
              "      <td>0.000000</td>\n",
              "      <td>0</td>\n",
              "      <td>0</td>\n",
              "      <td>1</td>\n",
              "      <td>1</td>\n",
              "      <td>1</td>\n",
              "      <td>0</td>\n",
              "      <td>1</td>\n",
              "      <td>0.0000</td>\n",
              "      <td>0.000000</td>\n",
              "    </tr>\n",
              "    <tr>\n",
              "      <th>2</th>\n",
              "      <td>3.0</td>\n",
              "      <td>0</td>\n",
              "      <td>0.000000</td>\n",
              "      <td>0.000000</td>\n",
              "      <td>0.0000</td>\n",
              "      <td>0.0000</td>\n",
              "      <td>0.0000</td>\n",
              "      <td>0.000000</td>\n",
              "      <td>0.000000</td>\n",
              "      <td>0.000000</td>\n",
              "      <td>...</td>\n",
              "      <td>0.000000</td>\n",
              "      <td>0</td>\n",
              "      <td>0</td>\n",
              "      <td>1</td>\n",
              "      <td>1</td>\n",
              "      <td>1</td>\n",
              "      <td>0</td>\n",
              "      <td>1</td>\n",
              "      <td>0.0000</td>\n",
              "      <td>0.000000</td>\n",
              "    </tr>\n",
              "    <tr>\n",
              "      <th>3</th>\n",
              "      <td>4.5</td>\n",
              "      <td>1</td>\n",
              "      <td>0.000000</td>\n",
              "      <td>0.000000</td>\n",
              "      <td>0.0000</td>\n",
              "      <td>0.0000</td>\n",
              "      <td>0.0000</td>\n",
              "      <td>0.000000</td>\n",
              "      <td>0.000000</td>\n",
              "      <td>0.000000</td>\n",
              "      <td>...</td>\n",
              "      <td>0.000000</td>\n",
              "      <td>0</td>\n",
              "      <td>0</td>\n",
              "      <td>1</td>\n",
              "      <td>1</td>\n",
              "      <td>1</td>\n",
              "      <td>0</td>\n",
              "      <td>1</td>\n",
              "      <td>0.0000</td>\n",
              "      <td>0.000000</td>\n",
              "    </tr>\n",
              "    <tr>\n",
              "      <th>4</th>\n",
              "      <td>2.5</td>\n",
              "      <td>1</td>\n",
              "      <td>0.000000</td>\n",
              "      <td>0.000000</td>\n",
              "      <td>0.0000</td>\n",
              "      <td>0.0000</td>\n",
              "      <td>0.0000</td>\n",
              "      <td>0.000000</td>\n",
              "      <td>0.000000</td>\n",
              "      <td>0.000000</td>\n",
              "      <td>...</td>\n",
              "      <td>0.000000</td>\n",
              "      <td>0</td>\n",
              "      <td>0</td>\n",
              "      <td>1</td>\n",
              "      <td>1</td>\n",
              "      <td>1</td>\n",
              "      <td>0</td>\n",
              "      <td>1</td>\n",
              "      <td>0.0000</td>\n",
              "      <td>0.000000</td>\n",
              "    </tr>\n",
              "    <tr>\n",
              "      <th>...</th>\n",
              "      <td>...</td>\n",
              "      <td>...</td>\n",
              "      <td>...</td>\n",
              "      <td>...</td>\n",
              "      <td>...</td>\n",
              "      <td>...</td>\n",
              "      <td>...</td>\n",
              "      <td>...</td>\n",
              "      <td>...</td>\n",
              "      <td>...</td>\n",
              "      <td>...</td>\n",
              "      <td>...</td>\n",
              "      <td>...</td>\n",
              "      <td>...</td>\n",
              "      <td>...</td>\n",
              "      <td>...</td>\n",
              "      <td>...</td>\n",
              "      <td>...</td>\n",
              "      <td>...</td>\n",
              "      <td>...</td>\n",
              "      <td>...</td>\n",
              "    </tr>\n",
              "    <tr>\n",
              "      <th>4480</th>\n",
              "      <td>0.0</td>\n",
              "      <td>0</td>\n",
              "      <td>107.262404</td>\n",
              "      <td>107.567617</td>\n",
              "      <td>25.6000</td>\n",
              "      <td>30.2000</td>\n",
              "      <td>24.8000</td>\n",
              "      <td>19.266667</td>\n",
              "      <td>1.333333</td>\n",
              "      <td>1.533333</td>\n",
              "      <td>...</td>\n",
              "      <td>0.857143</td>\n",
              "      <td>0</td>\n",
              "      <td>1</td>\n",
              "      <td>0</td>\n",
              "      <td>0</td>\n",
              "      <td>1</td>\n",
              "      <td>1</td>\n",
              "      <td>0</td>\n",
              "      <td>-4.6000</td>\n",
              "      <td>-5.533333</td>\n",
              "    </tr>\n",
              "    <tr>\n",
              "      <th>4481</th>\n",
              "      <td>2.5</td>\n",
              "      <td>1</td>\n",
              "      <td>100.544632</td>\n",
              "      <td>88.934373</td>\n",
              "      <td>23.6250</td>\n",
              "      <td>19.6250</td>\n",
              "      <td>24.0625</td>\n",
              "      <td>16.187500</td>\n",
              "      <td>1.375000</td>\n",
              "      <td>1.187500</td>\n",
              "      <td>...</td>\n",
              "      <td>0.750000</td>\n",
              "      <td>0</td>\n",
              "      <td>0</td>\n",
              "      <td>1</td>\n",
              "      <td>1</td>\n",
              "      <td>1</td>\n",
              "      <td>0</td>\n",
              "      <td>1</td>\n",
              "      <td>4.0000</td>\n",
              "      <td>-7.875000</td>\n",
              "    </tr>\n",
              "    <tr>\n",
              "      <th>4482</th>\n",
              "      <td>4.0</td>\n",
              "      <td>1</td>\n",
              "      <td>95.188172</td>\n",
              "      <td>113.854167</td>\n",
              "      <td>26.2500</td>\n",
              "      <td>25.1250</td>\n",
              "      <td>14.0625</td>\n",
              "      <td>20.687500</td>\n",
              "      <td>0.937500</td>\n",
              "      <td>1.062500</td>\n",
              "      <td>...</td>\n",
              "      <td>0.625000</td>\n",
              "      <td>0</td>\n",
              "      <td>1</td>\n",
              "      <td>0</td>\n",
              "      <td>1</td>\n",
              "      <td>0</td>\n",
              "      <td>1</td>\n",
              "      <td>1</td>\n",
              "      <td>1.1250</td>\n",
              "      <td>6.625000</td>\n",
              "    </tr>\n",
              "    <tr>\n",
              "      <th>4483</th>\n",
              "      <td>8.0</td>\n",
              "      <td>1</td>\n",
              "      <td>107.703672</td>\n",
              "      <td>110.159156</td>\n",
              "      <td>28.6250</td>\n",
              "      <td>25.4375</td>\n",
              "      <td>21.3125</td>\n",
              "      <td>18.937500</td>\n",
              "      <td>0.500000</td>\n",
              "      <td>1.250000</td>\n",
              "      <td>...</td>\n",
              "      <td>0.500000</td>\n",
              "      <td>3</td>\n",
              "      <td>0</td>\n",
              "      <td>0</td>\n",
              "      <td>1</td>\n",
              "      <td>1</td>\n",
              "      <td>1</td>\n",
              "      <td>1</td>\n",
              "      <td>3.1875</td>\n",
              "      <td>-2.375000</td>\n",
              "    </tr>\n",
              "    <tr>\n",
              "      <th>4484</th>\n",
              "      <td>1.5</td>\n",
              "      <td>0</td>\n",
              "      <td>97.366775</td>\n",
              "      <td>106.547389</td>\n",
              "      <td>24.0625</td>\n",
              "      <td>25.3125</td>\n",
              "      <td>22.1250</td>\n",
              "      <td>24.875000</td>\n",
              "      <td>1.437500</td>\n",
              "      <td>1.250000</td>\n",
              "      <td>...</td>\n",
              "      <td>0.875000</td>\n",
              "      <td>4</td>\n",
              "      <td>0</td>\n",
              "      <td>0</td>\n",
              "      <td>0</td>\n",
              "      <td>0</td>\n",
              "      <td>0</td>\n",
              "      <td>0</td>\n",
              "      <td>-1.2500</td>\n",
              "      <td>2.750000</td>\n",
              "    </tr>\n",
              "  </tbody>\n",
              "</table>\n",
              "<p>4485 rows × 34 columns</p>\n",
              "</div>\n",
              "      <button class=\"colab-df-convert\" onclick=\"convertToInteractive('df-73e281da-667d-4e33-8eb7-0cd7ccbd415f')\"\n",
              "              title=\"Convert this dataframe to an interactive table.\"\n",
              "              style=\"display:none;\">\n",
              "        \n",
              "  <svg xmlns=\"http://www.w3.org/2000/svg\" height=\"24px\"viewBox=\"0 0 24 24\"\n",
              "       width=\"24px\">\n",
              "    <path d=\"M0 0h24v24H0V0z\" fill=\"none\"/>\n",
              "    <path d=\"M18.56 5.44l.94 2.06.94-2.06 2.06-.94-2.06-.94-.94-2.06-.94 2.06-2.06.94zm-11 1L8.5 8.5l.94-2.06 2.06-.94-2.06-.94L8.5 2.5l-.94 2.06-2.06.94zm10 10l.94 2.06.94-2.06 2.06-.94-2.06-.94-.94-2.06-.94 2.06-2.06.94z\"/><path d=\"M17.41 7.96l-1.37-1.37c-.4-.4-.92-.59-1.43-.59-.52 0-1.04.2-1.43.59L10.3 9.45l-7.72 7.72c-.78.78-.78 2.05 0 2.83L4 21.41c.39.39.9.59 1.41.59.51 0 1.02-.2 1.41-.59l7.78-7.78 2.81-2.81c.8-.78.8-2.07 0-2.86zM5.41 20L4 18.59l7.72-7.72 1.47 1.35L5.41 20z\"/>\n",
              "  </svg>\n",
              "      </button>\n",
              "      \n",
              "  <style>\n",
              "    .colab-df-container {\n",
              "      display:flex;\n",
              "      flex-wrap:wrap;\n",
              "      gap: 12px;\n",
              "    }\n",
              "\n",
              "    .colab-df-convert {\n",
              "      background-color: #E8F0FE;\n",
              "      border: none;\n",
              "      border-radius: 50%;\n",
              "      cursor: pointer;\n",
              "      display: none;\n",
              "      fill: #1967D2;\n",
              "      height: 32px;\n",
              "      padding: 0 0 0 0;\n",
              "      width: 32px;\n",
              "    }\n",
              "\n",
              "    .colab-df-convert:hover {\n",
              "      background-color: #E2EBFA;\n",
              "      box-shadow: 0px 1px 2px rgba(60, 64, 67, 0.3), 0px 1px 3px 1px rgba(60, 64, 67, 0.15);\n",
              "      fill: #174EA6;\n",
              "    }\n",
              "\n",
              "    [theme=dark] .colab-df-convert {\n",
              "      background-color: #3B4455;\n",
              "      fill: #D2E3FC;\n",
              "    }\n",
              "\n",
              "    [theme=dark] .colab-df-convert:hover {\n",
              "      background-color: #434B5C;\n",
              "      box-shadow: 0px 1px 3px 1px rgba(0, 0, 0, 0.15);\n",
              "      filter: drop-shadow(0px 1px 2px rgba(0, 0, 0, 0.3));\n",
              "      fill: #FFFFFF;\n",
              "    }\n",
              "  </style>\n",
              "\n",
              "      <script>\n",
              "        const buttonEl =\n",
              "          document.querySelector('#df-73e281da-667d-4e33-8eb7-0cd7ccbd415f button.colab-df-convert');\n",
              "        buttonEl.style.display =\n",
              "          google.colab.kernel.accessAllowed ? 'block' : 'none';\n",
              "\n",
              "        async function convertToInteractive(key) {\n",
              "          const element = document.querySelector('#df-73e281da-667d-4e33-8eb7-0cd7ccbd415f');\n",
              "          const dataTable =\n",
              "            await google.colab.kernel.invokeFunction('convertToInteractive',\n",
              "                                                     [key], {});\n",
              "          if (!dataTable) return;\n",
              "\n",
              "          const docLinkHtml = 'Like what you see? Visit the ' +\n",
              "            '<a target=\"_blank\" href=https://colab.research.google.com/notebooks/data_table.ipynb>data table notebook</a>'\n",
              "            + ' to learn more about interactive tables.';\n",
              "          element.innerHTML = '';\n",
              "          dataTable['output_type'] = 'display_data';\n",
              "          await google.colab.output.renderOutput(dataTable, element);\n",
              "          const docLink = document.createElement('div');\n",
              "          docLink.innerHTML = docLinkHtml;\n",
              "          element.appendChild(docLink);\n",
              "        }\n",
              "      </script>\n",
              "    </div>\n",
              "  </div>\n",
              "  "
            ]
          },
          "metadata": {},
          "execution_count": 3
        }
      ],
      "source": [
        "path = \"/content/drive/MyDrive/Ashray Pamula/data/master-boxscore-tracker.xlsx\"\n",
        "#path = \"/content/drive/MyDrive/Ashray Pamula/data/master-boxscore-tracker1.xlsx\"\n",
        "#path = \"/content/drive/MyDrive/Ashray Pamula/data/removed-na-rows-master-boxscore-tracker1.xlsx\"\n",
        "df = pd.read_excel(path)\n",
        "df.head()\n",
        "df.shape\n",
        "df.isna().sum()\n",
        "\n",
        "df2 = df.loc[:, \"Line\":]\n",
        "#df2 = df.loc[:, \"Home QBR\":]\n",
        "#df2 = df2.drop([\"Home Home Win Streak\", \"Home Home Win PCT\", \"Away Road Win PCT\"], axis = 1)\n",
        "df2"
      ]
    },
    {
      "cell_type": "code",
      "execution_count": null,
      "metadata": {
        "colab": {
          "base_uri": "https://localhost:8080/"
        },
        "id": "PdKbuOCwICXw",
        "outputId": "3813649e-b333-4d1f-b5d2-e0c56445aaaf"
      },
      "outputs": [
        {
          "output_type": "stream",
          "name": "stdout",
          "text": [
            "[8.08689034e-01 7.14846641e-02 5.47244011e-02 5.43393240e-02\n",
            " 3.77304312e-03 3.52747890e-03 9.10355611e-04 8.45383112e-04\n",
            " 4.28677509e-04 3.34769326e-04 2.67836292e-04 2.45359464e-04\n",
            " 1.15528619e-04 7.09919904e-05 5.89236377e-05 5.28308495e-05\n",
            " 4.88419951e-05 3.22690191e-05 9.80748944e-06 8.64908056e-06\n",
            " 6.10883552e-06 5.15523006e-06 4.82910629e-06 2.98771860e-06\n",
            " 2.86423636e-06 2.51507886e-06 1.91892575e-06 1.83891403e-06\n",
            " 1.68033613e-06 1.22101856e-06 4.12464104e-07 2.98532468e-07]\n"
          ]
        }
      ],
      "source": [
        "from sklearn.decomposition import PCA\n",
        "pca = PCA(n_components = \"mle\")\n",
        "principal_components = pca.fit_transform(df2)\n",
        "print(pca.explained_variance_ratio_)"
      ]
    },
    {
      "cell_type": "code",
      "execution_count": null,
      "metadata": {
        "colab": {
          "base_uri": "https://localhost:8080/"
        },
        "id": "3TGmI2DTWbr0",
        "outputId": "79acf92f-0292-4e20-e982-54145d9b94a7"
      },
      "outputs": [
        {
          "output_type": "execute_result",
          "data": {
            "text/plain": [
              "(4485, 32)"
            ]
          },
          "metadata": {},
          "execution_count": 5
        }
      ],
      "source": [
        "principal_df = pd.DataFrame(data = principal_components)\n",
        "principal_df.shape"
      ]
    },
    {
      "cell_type": "code",
      "execution_count": null,
      "metadata": {
        "id": "WN3f8RejGe1_"
      },
      "outputs": [],
      "source": [
        "df[\"Home Win\"] = df[\"Home Win\"].astype(int)\n",
        "y = np.array(df[\"Home Win\"])\n",
        "X = np.array(df2)"
      ]
    },
    {
      "cell_type": "code",
      "execution_count": null,
      "metadata": {
        "id": "GKbW5M6MM7lk"
      },
      "outputs": [],
      "source": [
        "#Feature Selection\n",
        "\n",
        "#Removing Features with low variance\n",
        "from sklearn.feature_selection import VarianceThreshold\n",
        "sel = VarianceThreshold(threshold=(.8 * (1 - .8)))\n",
        "X = sel.fit_transform(X)"
      ]
    },
    {
      "cell_type": "code",
      "execution_count": null,
      "metadata": {
        "id": "1O6pVxKFfH8w"
      },
      "outputs": [],
      "source": [
        "from sklearn.model_selection import train_test_split\n",
        "\n",
        "X_train, X_test, y_train, y_test = train_test_split(X, y, test_size = 0.25, random_state=10) # YOUR CODE HERE"
      ]
    },
    {
      "cell_type": "code",
      "execution_count": null,
      "metadata": {
        "id": "DRRjavJcvmZT"
      },
      "outputs": [],
      "source": [
        "X_train = X[df[\"Season\"] != 2019]\n",
        "X_test = X[df[\"Season\"] == 2019]\n",
        "y_train = y[df[\"Season\"] != 2019]\n",
        "y_test = y[df[\"Season\"] == 2019]"
      ]
    },
    {
      "cell_type": "code",
      "execution_count": null,
      "metadata": {
        "colab": {
          "base_uri": "https://localhost:8080/"
        },
        "id": "87Oa90uTfM_z",
        "outputId": "44cb6e52-1150-4f8e-c32f-4b0579736c74"
      },
      "outputs": [
        {
          "name": "stderr",
          "output_type": "stream",
          "text": [
            "/usr/local/lib/python3.8/dist-packages/sklearn/linear_model/_logistic.py:814: ConvergenceWarning: lbfgs failed to converge (status=1):\n",
            "STOP: TOTAL NO. of ITERATIONS REACHED LIMIT.\n",
            "\n",
            "Increase the number of iterations (max_iter) or scale the data as shown in:\n",
            "    https://scikit-learn.org/stable/modules/preprocessing.html\n",
            "Please also refer to the documentation for alternative solver options:\n",
            "    https://scikit-learn.org/stable/modules/linear_model.html#logistic-regression\n",
            "  n_iter_i = _check_optimize_result(\n"
          ]
        },
        {
          "data": {
            "text/plain": [
              "0.6067415730337079"
            ]
          },
          "execution_count": 10,
          "metadata": {},
          "output_type": "execute_result"
        }
      ],
      "source": [
        "# STEP 1: Initialization\n",
        "from sklearn.linear_model import LogisticRegression\n",
        "\n",
        "logistic_model = LogisticRegression(C = 41, random_state = 0)\n",
        "\n",
        "# STEP 2: Training\n",
        "logistic_model.fit(X_train, y_train)\n",
        "\n",
        "# STEP 3: Prediction\n",
        "#predictions = logistic_model.predict_proba(X_test)\n",
        "predictions = logistic_model.predict(X_test)\n",
        "# STEP 4: Evaluation\n",
        "from sklearn.metrics import accuracy_score\n",
        "#print(predictions)\n",
        "accuracy_score(y_test, predictions)"
      ]
    },
    {
      "cell_type": "code",
      "execution_count": null,
      "metadata": {
        "colab": {
          "base_uri": "https://localhost:8080/",
          "height": 252
        },
        "id": "67ucLfjPkfuk",
        "outputId": "3f4e3f33-9688-476f-bb11-c4859efc288b"
      },
      "outputs": [
        {
          "ename": "NameError",
          "evalue": "ignored",
          "output_type": "error",
          "traceback": [
            "\u001b[0;31m---------------------------------------------------------------------------\u001b[0m",
            "\u001b[0;31mNameError\u001b[0m                                 Traceback (most recent call last)",
            "\u001b[0;32m<ipython-input-11-1f44e454ebd1>\u001b[0m in \u001b[0;36m<module>\u001b[0;34m\u001b[0m\n\u001b[1;32m     11\u001b[0m \u001b[0;34m\u001b[0m\u001b[0m\n\u001b[1;32m     12\u001b[0m \u001b[0;31m# STEP 1: Initialization\u001b[0m\u001b[0;34m\u001b[0m\u001b[0;34m\u001b[0m\u001b[0;34m\u001b[0m\u001b[0m\n\u001b[0;32m---> 13\u001b[0;31m \u001b[0mnfl_model\u001b[0m \u001b[0;34m=\u001b[0m \u001b[0mCatBoostClassifier\u001b[0m\u001b[0;34m(\u001b[0m\u001b[0mlearning_rate\u001b[0m \u001b[0;34m=\u001b[0m \u001b[0;36m0.03\u001b[0m\u001b[0;34m,\u001b[0m \u001b[0miterations\u001b[0m \u001b[0;34m=\u001b[0m \u001b[0;36m500\u001b[0m\u001b[0;34m,\u001b[0m \u001b[0mdepth\u001b[0m \u001b[0;34m=\u001b[0m \u001b[0;36m2\u001b[0m\u001b[0;34m)\u001b[0m\u001b[0;34m\u001b[0m\u001b[0;34m\u001b[0m\u001b[0m\n\u001b[0m\u001b[1;32m     14\u001b[0m \u001b[0;34m\u001b[0m\u001b[0m\n\u001b[1;32m     15\u001b[0m \u001b[0;34m\u001b[0m\u001b[0m\n",
            "\u001b[0;31mNameError\u001b[0m: name 'CatBoostClassifier' is not defined"
          ]
        }
      ],
      "source": [
        "from sklearn.ensemble import RandomForestClassifier #n_estimators = 80\n",
        "from sklearn.svm import SVC\n",
        "from sklearn.ensemble import GradientBoostingClassifier #66.55%: n_estimators = 12, learning_rate = 0.05, max_depth = 1, random_state = 0\n",
        "from sklearn.ensemble import AdaBoostClassifier #66.55%: n_estimators = 3\n",
        "from sklearn.decomposition import PCA\n",
        "\n",
        "#pca = PCA(n_components = 31)\n",
        "#X_train = pca.fit(X_train)\n",
        "#X_test = pca.fit_transform(X_test)\n",
        "#print(pd.DataFrame(X_train).head())\n",
        "\n",
        "# STEP 1: Initialization\n",
        "nfl_model = CatBoostClassifier(learning_rate = 0.03, iterations = 500, depth = 2)\n",
        "\n",
        "\n",
        "# STEP 2: Training\n",
        "nfl_model.fit(X_train, y_train)\n",
        "\n",
        "# STEP 3: Prediction\n",
        "predictions = nfl_model.predict(X_test)\n",
        "#predictions = nfl_model.predict_proba(X_test)\n",
        "\n",
        "# STEP 4: Evaluation\n",
        "accuracy_score(y_test, predictions)"
      ]
    },
    {
      "cell_type": "code",
      "execution_count": null,
      "metadata": {
        "id": "3eFcXG18_3Yd"
      },
      "outputs": [],
      "source": [
        "!pip install optuna\n",
        "import optuna\n",
        "from optuna.integration import CatBoostPruningCallback\n",
        "\n",
        "def objective(trial: optuna.Trial) -> float:\n",
        "    train_x, valid_x, train_y, valid_y = train_test_split(X, y, test_size=0.2)\n",
        "\n",
        "    param = {\n",
        "        \"objective\": trial.suggest_categorical(\"objective\", [\"Logloss\", \"CrossEntropy\"]),\n",
        "        \"colsample_bylevel\": trial.suggest_float(\"colsample_bylevel\", 0.01, 0.1, log=True),\n",
        "        \"depth\": trial.suggest_int(\"depth\", 1, 12),\n",
        "        \"boosting_type\": trial.suggest_categorical(\"boosting_type\", [\"Ordered\", \"Plain\"]),\n",
        "        \"bootstrap_type\": trial.suggest_categorical(\n",
        "            \"bootstrap_type\", [\"Bayesian\", \"Bernoulli\", \"MVS\"]\n",
        "        ),\n",
        "        \"used_ram_limit\": \"3gb\",\n",
        "        \"eval_metric\": \"Accuracy\",\n",
        "    }\n",
        "\n",
        "    if param[\"bootstrap_type\"] == \"Bayesian\":\n",
        "        param[\"bagging_temperature\"] = trial.suggest_float(\"bagging_temperature\", 0, 10)\n",
        "    elif param[\"bootstrap_type\"] == \"Bernoulli\":\n",
        "        param[\"subsample\"] = trial.suggest_float(\"subsample\", 0.1, 1, log=True)\n",
        "\n",
        "    gbm = cb.CatBoostClassifier(**param)\n",
        "\n",
        "    pruning_callback = CatBoostPruningCallback(trial, \"Accuracy\")\n",
        "    gbm.fit(\n",
        "        train_x,\n",
        "        train_y,\n",
        "        eval_set=[(valid_x, valid_y)],\n",
        "        verbose=0,\n",
        "        early_stopping_rounds=100,\n",
        "        callbacks=[pruning_callback],\n",
        "    )\n",
        "\n",
        "    # evoke pruning manually.\n",
        "    pruning_callback.check_pruned()\n",
        "\n",
        "    preds = gbm.predict(valid_x)\n",
        "    pred_labels = np.rint(preds)\n",
        "    accuracy = accuracy_score(valid_y, pred_labels)\n",
        "\n",
        "    return accuracy\n",
        "\n",
        "study = optuna.create_study(pruner=optuna.pruners.MedianPruner(n_warmup_steps=5), direction=\"maximize\")\n",
        "study.optimize(objective, n_trials=100, timeout=600)\n",
        "\n",
        "print(\"Number of finished trials: {}\".format(len(study.trials)))\n",
        "\n",
        "print(\"Best trial:\")\n",
        "trial = study.best_trial\n",
        "\n",
        "print(\"  Value: {}\".format(trial.value))\n",
        "\n",
        "print(\"  Params: \")\n",
        "for key, value in trial.params.items():\n",
        "    print(\"    {}: {}\".format(key, value))"
      ]
    },
    {
      "cell_type": "code",
      "execution_count": null,
      "metadata": {
        "id": "YWw0Oecefiqv"
      },
      "outputs": [],
      "source": [
        "best_accuracy = 0\n",
        "best_param = 0\n",
        "new_acc = 0\n",
        "\n",
        "mae_values = []\n",
        "\n",
        "for k in float_for_loop(90, 300, 1):\n",
        "  random_forest_model = LGBMClassifier(max_depth = 1, learning_rate = .166, n_estimators = 90)\n",
        "  random_forest_model.fit(X_train, y_train)\n",
        "  predictions = random_forest_model.predict(X_test)\n",
        "  mae_values.append(accuracy_score(y_test, predictions))\n",
        "  new_acc = accuracy_score(y_test, predictions)\n",
        "  if(new_acc > best_accuracy):\n",
        "    best_accuracy = new_acc\n",
        "    best_param = k\n",
        "\n",
        "#67.7362 at 90\n",
        "\n",
        "plt.figure(figsize=(10,6))\n",
        "plt.plot(range(90, 300), mae_values)\n",
        "\n",
        "print(\"Accuracy:\", best_accuracy)\n",
        "print(\"Best k-value:\", best_param)"
      ]
    },
    {
      "cell_type": "code",
      "execution_count": null,
      "metadata": {
        "id": "hReXsbM5T65S"
      },
      "outputs": [],
      "source": [
        "plt.figure(figsize=(10,6))\n",
        "plt.plot(mae_values)\n",
        "\n",
        "print(\"Accuracy:\", best_accuracy)\n",
        "print(\"Best k-value:\", best_param)"
      ]
    },
    {
      "cell_type": "code",
      "execution_count": null,
      "metadata": {
        "colab": {
          "base_uri": "https://localhost:8080/"
        },
        "id": "XqdoBQQ_9nch",
        "outputId": "16bf57ab-ff2e-40d0-b1e7-8476b4c3fd39"
      },
      "outputs": [
        {
          "output_type": "stream",
          "name": "stdout",
          "text": [
            "Collecting catboost\n",
            "  Downloading catboost-1.2-cp310-cp310-manylinux2014_x86_64.whl (98.6 MB)\n",
            "\u001b[2K     \u001b[90m━━━━━━━━━━━━━━━━━━━━━━━━━━━━━━━━━━━━━━━━\u001b[0m \u001b[32m98.6/98.6 MB\u001b[0m \u001b[31m3.8 MB/s\u001b[0m eta \u001b[36m0:00:00\u001b[0m\n",
            "\u001b[?25hRequirement already satisfied: graphviz in /usr/local/lib/python3.10/dist-packages (from catboost) (0.20.1)\n",
            "Requirement already satisfied: matplotlib in /usr/local/lib/python3.10/dist-packages (from catboost) (3.7.1)\n",
            "Requirement already satisfied: numpy>=1.16.0 in /usr/local/lib/python3.10/dist-packages (from catboost) (1.22.4)\n",
            "Requirement already satisfied: pandas>=0.24 in /usr/local/lib/python3.10/dist-packages (from catboost) (1.5.3)\n",
            "Requirement already satisfied: scipy in /usr/local/lib/python3.10/dist-packages (from catboost) (1.10.1)\n",
            "Requirement already satisfied: plotly in /usr/local/lib/python3.10/dist-packages (from catboost) (5.13.1)\n",
            "Requirement already satisfied: six in /usr/local/lib/python3.10/dist-packages (from catboost) (1.16.0)\n",
            "Requirement already satisfied: python-dateutil>=2.8.1 in /usr/local/lib/python3.10/dist-packages (from pandas>=0.24->catboost) (2.8.2)\n",
            "Requirement already satisfied: pytz>=2020.1 in /usr/local/lib/python3.10/dist-packages (from pandas>=0.24->catboost) (2022.7.1)\n",
            "Requirement already satisfied: contourpy>=1.0.1 in /usr/local/lib/python3.10/dist-packages (from matplotlib->catboost) (1.1.0)\n",
            "Requirement already satisfied: cycler>=0.10 in /usr/local/lib/python3.10/dist-packages (from matplotlib->catboost) (0.11.0)\n",
            "Requirement already satisfied: fonttools>=4.22.0 in /usr/local/lib/python3.10/dist-packages (from matplotlib->catboost) (4.40.0)\n",
            "Requirement already satisfied: kiwisolver>=1.0.1 in /usr/local/lib/python3.10/dist-packages (from matplotlib->catboost) (1.4.4)\n",
            "Requirement already satisfied: packaging>=20.0 in /usr/local/lib/python3.10/dist-packages (from matplotlib->catboost) (23.1)\n",
            "Requirement already satisfied: pillow>=6.2.0 in /usr/local/lib/python3.10/dist-packages (from matplotlib->catboost) (8.4.0)\n",
            "Requirement already satisfied: pyparsing>=2.3.1 in /usr/local/lib/python3.10/dist-packages (from matplotlib->catboost) (3.1.0)\n",
            "Requirement already satisfied: tenacity>=6.2.0 in /usr/local/lib/python3.10/dist-packages (from plotly->catboost) (8.2.2)\n",
            "Installing collected packages: catboost\n",
            "Successfully installed catboost-1.2\n",
            "Requirement already satisfied: lightgbm in /usr/local/lib/python3.10/dist-packages (3.3.5)\n",
            "Requirement already satisfied: wheel in /usr/local/lib/python3.10/dist-packages (from lightgbm) (0.40.0)\n",
            "Requirement already satisfied: numpy in /usr/local/lib/python3.10/dist-packages (from lightgbm) (1.22.4)\n",
            "Requirement already satisfied: scipy in /usr/local/lib/python3.10/dist-packages (from lightgbm) (1.10.1)\n",
            "Requirement already satisfied: scikit-learn!=0.22.0 in /usr/local/lib/python3.10/dist-packages (from lightgbm) (1.2.2)\n",
            "Requirement already satisfied: joblib>=1.1.1 in /usr/local/lib/python3.10/dist-packages (from scikit-learn!=0.22.0->lightgbm) (1.2.0)\n",
            "Requirement already satisfied: threadpoolctl>=2.0.0 in /usr/local/lib/python3.10/dist-packages (from scikit-learn!=0.22.0->lightgbm) (3.1.0)\n",
            "Requirement already satisfied: xgboost in /usr/local/lib/python3.10/dist-packages (1.7.6)\n",
            "Requirement already satisfied: numpy in /usr/local/lib/python3.10/dist-packages (from xgboost) (1.22.4)\n",
            "Requirement already satisfied: scipy in /usr/local/lib/python3.10/dist-packages (from xgboost) (1.10.1)\n"
          ]
        }
      ],
      "source": [
        "%pip install catboost\n",
        "%pip install lightgbm\n",
        "%pip install xgboost"
      ]
    },
    {
      "cell_type": "code",
      "execution_count": null,
      "metadata": {
        "id": "1n2AntzP92to"
      },
      "outputs": [],
      "source": [
        "from catboost import CatBoostClassifier\n",
        "from lightgbm import LGBMClassifier\n",
        "from xgboost import XGBClassifier\n"
      ]
    },
    {
      "cell_type": "code",
      "execution_count": null,
      "metadata": {
        "id": "f2MXBfEXyQfK"
      },
      "outputs": [],
      "source": [
        "from sklearn.tree import DecisionTreeClassifier\n",
        "from sklearn.neighbors import KNeighborsClassifier\n",
        "from sklearn.ensemble import RandomForestClassifier #n_estimators = 80\n",
        "from sklearn.svm import SVC\n",
        "from sklearn.ensemble import GradientBoostingClassifier #66.55%: n_estimators = 12, learning_rate = 0.05, max_depth = 1, random_state = 0\n",
        "from sklearn.ensemble import AdaBoostClassifier #66.55%: n_estimators = 3\n",
        "from sklearn.linear_model import LogisticRegression\n",
        "from sklearn.naive_bayes import GaussianNB\n",
        "from sklearn.naive_bayes import BernoulliNB\n",
        "from sklearn.neural_network import MLPClassifier\n",
        "\n",
        "from itertools import product\n",
        "from sklearn.model_selection import cross_val_score\n",
        "from sklearn.ensemble import VotingClassifier\n",
        "from sklearn.model_selection import GridSearchCV\n",
        "\n",
        "from sklearn.metrics import accuracy_score, precision_score, recall_score, f1_score"
      ]
    },
    {
      "cell_type": "code",
      "source": [
        "new_model_accuracy = []"
      ],
      "metadata": {
        "id": "hmgbLBXfjzZC"
      },
      "execution_count": null,
      "outputs": []
    },
    {
      "cell_type": "code",
      "execution_count": null,
      "metadata": {
        "id": "kGLlEP38qdcj"
      },
      "outputs": [],
      "source": [
        "year = 2019\n",
        "\n",
        "#X_train = X[df[\"Season\"] != year]\n",
        "X_test = X[df[\"Season\"] == year]\n",
        "#y_train = y[df[\"Season\"] != year]\n",
        "y_test = y[df[\"Season\"] == year]"
      ]
    },
    {
      "cell_type": "code",
      "execution_count": null,
      "metadata": {
        "colab": {
          "base_uri": "https://localhost:8080/"
        },
        "id": "8fB6v__XF0Uo",
        "outputId": "c7be9e31-ff71-4ae3-853c-781e23c4ddd9"
      },
      "outputs": [
        {
          "output_type": "stream",
          "name": "stdout",
          "text": [
            "Accuracy Score: 0.6292134831460674 (+/- 0.01) [Decision Tree]\n",
            "Accuracy Score: 0.6329588014981273 (+/- 0.01) [Ada Boost]\n",
            "Accuracy Score: 0.6816479400749064 (+/- 0.01) [Gradient Boosting]\n",
            "Accuracy Score: 0.5917602996254682 (+/- 0.01) [Logistic Regression]\n"
          ]
        },
        {
          "output_type": "stream",
          "name": "stderr",
          "text": [
            "/usr/local/lib/python3.10/dist-packages/sklearn/linear_model/_logistic.py:458: ConvergenceWarning: lbfgs failed to converge (status=1):\n",
            "STOP: TOTAL NO. of ITERATIONS REACHED LIMIT.\n",
            "\n",
            "Increase the number of iterations (max_iter) or scale the data as shown in:\n",
            "    https://scikit-learn.org/stable/modules/preprocessing.html\n",
            "Please also refer to the documentation for alternative solver options:\n",
            "    https://scikit-learn.org/stable/modules/linear_model.html#logistic-regression\n",
            "  n_iter_i = _check_optimize_result(\n"
          ]
        },
        {
          "output_type": "stream",
          "name": "stdout",
          "text": [
            "Accuracy Score: 0.6292134831460674 (+/- 0.01) [Random Forest]\n",
            "Accuracy Score: 0.602996254681648 (+/- 0.01) [SVC]\n",
            "Accuracy Score: 0.6254681647940075 (+/- 0.01) [KNN]\n",
            "Accuracy Score: 0.6479400749063671 (+/- 0.01) [GaussianNB]\n",
            "Accuracy Score: 0.6367041198501873 (+/- 0.01) [BernoulliNB]\n"
          ]
        },
        {
          "output_type": "stream",
          "name": "stderr",
          "text": [
            "/usr/local/lib/python3.10/dist-packages/sklearn/neural_network/_multilayer_perceptron.py:686: ConvergenceWarning: Stochastic Optimizer: Maximum iterations (48) reached and the optimization hasn't converged yet.\n",
            "  warnings.warn(\n"
          ]
        },
        {
          "output_type": "stream",
          "name": "stdout",
          "text": [
            "Accuracy Score: 0.5730337078651685 (+/- 0.01) [MLP]\n",
            "Accuracy Score: 0.6292134831460674 (+/- 0.01) [CatBoost]\n",
            "Accuracy Score: 0.6292134831460674 (+/- 0.01) [XGBoost]\n",
            "Accuracy Score: 0.6329588014981273 (+/- 0.01) [LightGBM]\n"
          ]
        },
        {
          "output_type": "stream",
          "name": "stderr",
          "text": [
            "/usr/local/lib/python3.10/dist-packages/sklearn/linear_model/_logistic.py:458: ConvergenceWarning: lbfgs failed to converge (status=1):\n",
            "STOP: TOTAL NO. of ITERATIONS REACHED LIMIT.\n",
            "\n",
            "Increase the number of iterations (max_iter) or scale the data as shown in:\n",
            "    https://scikit-learn.org/stable/modules/preprocessing.html\n",
            "Please also refer to the documentation for alternative solver options:\n",
            "    https://scikit-learn.org/stable/modules/linear_model.html#logistic-regression\n",
            "  n_iter_i = _check_optimize_result(\n",
            "/usr/local/lib/python3.10/dist-packages/sklearn/neural_network/_multilayer_perceptron.py:686: ConvergenceWarning: Stochastic Optimizer: Maximum iterations (48) reached and the optimization hasn't converged yet.\n",
            "  warnings.warn(\n"
          ]
        },
        {
          "output_type": "stream",
          "name": "stdout",
          "text": [
            "Accuracy Score: 0.6367041198501873 (+/- 0.01) [Ensemble]\n"
          ]
        }
      ],
      "source": [
        "# Voting Classifier\n",
        "\n",
        "# Training classifiers\n",
        "clf1 = DecisionTreeClassifier(max_depth = 1, min_samples_split = 12, random_state = 0)\n",
        "# = 2019\n",
        "#clf1 = DecisionTreeClassifier(max_depth = 5, min_samples_split = 12, random_state = 0)\n",
        "\n",
        "clf2 = AdaBoostClassifier(n_estimators = 8, learning_rate = .26, random_state = 0)\n",
        "#clf2 = AdaBoostClassifier(n_estimators = 9, learning_rate = .30, random_state = 0)\n",
        "\n",
        "clf3 = GradientBoostingClassifier(n_estimators = 46, learning_rate = .03, max_depth = 5, min_samples_split = 34, random_state = 0)\n",
        "#clf3 = GradientBoostingClassifier(n_estimators = 33, learning_rate = .04, max_depth = 10, min_samples_split = 14, random_state = 0)\n",
        "\n",
        "clf4 = LogisticRegression(C = .14, random_state = 0)\n",
        "#clf4 = LogisticRegression(C = 41, random_state = 0)\n",
        "\n",
        "clf5 = RandomForestClassifier(n_estimators = 417, max_depth = 3, min_samples_split = 2, random_state=0)\n",
        "#clf5 = RandomForestClassifier(n_estimators = 127, max_depth = 17, random_state=0, min_samples_split = 2)\n",
        "\n",
        "clf6 = SVC(C = 173, kernel = \"poly\", degree = 2, probability = True, random_state = 0)\n",
        "#clf6 = SVC(C = 18, kernel = \"poly\", degree = 1, probability = True, random_state = 0)\n",
        "\n",
        "clf7 = KNeighborsClassifier(n_neighbors = 58)\n",
        "#clf7 = KNeighborsClassifier(n_neighbors = 32)\n",
        "\n",
        "clf8 = GaussianNB()\n",
        "#clf8 = GaussianNB()\n",
        "\n",
        "clf9 = BernoulliNB(alpha = 194, fit_prior = False)\n",
        "#clf9 = BernoulliNB(alpha = 20, fit_prior = False)\n",
        "\n",
        "clf10 = MLPClassifier(alpha = 60, max_iter = 48, random_state = 0)\n",
        "#clf10 = MLPClassifier(alpha = 37, max_iter = 30, random_state = 0)\n",
        "\n",
        "clf11 = CatBoostClassifier(learning_rate = .04, iterations = 1000, depth = 1, silent = True)\n",
        "\n",
        "clf12 = XGBClassifier(max_depth = 1, learning_rate = .081, n_estimators = 100, silent = None)\n",
        "\n",
        "clf13 = LGBMClassifier(max_depth = 1, learning_rate = .166, n_estimators = 90)\n",
        "\n",
        "#try including these as well XGBoost, LightGBM, CatBoost\n",
        "\n",
        "\n",
        "eclf = VotingClassifier(estimators=[('dt', clf1), ('ab', clf2), ('gb', clf3), ('lr', clf4), ('rf', clf5), ('svc', clf6), ('knn', clf7), ('gnb', clf8), ('bnb', clf9), ('MLP', clf10), ('cbc', clf11), ('xgb', clf12), ('lgbm', clf13)], voting='hard')\n",
        "\n",
        "#params = {'svc__C': [.1, 1, 10, 100], 'svc__kernel': ['linear', 'rbf'], 'rf__n_estimators': [20, 40, 60, 80, 100, 120, 140, 160, 180, 200], 'knn__n_neighbors': [1, 5, 10, 20, 30, 40, 50], 'dt__max_depth': [1, 5, 10, 20, 30, 40,  50], 'dt__min_samples_split': [1, 5, 10, 20, 30, 40, 50], 'ab__n_estimators': [1, 5, 10, 20, 30, 40, 50], 'ab__learning_rate': [0.01, .1, .2, .4, .6, .8, 1], 'gb__n_estimators':[1, 5, 10, 20, 30, 40, 50], 'gb__learning_rate': [0.01, .1, .2, .4, .6, .8, 1], 'gb__max_depth': [1, 5, 10, 20, 30, 40,  50], 'gb__min_samples_split': [1, 5, 10, 20, 30, 40, 50]}\n",
        "\n",
        "#grid = GridSearchCV(estimator=eclf, param_grid=params, cv=5)\n",
        "#gridsearch = grid.fit(X_train, y_train)\n",
        "\n",
        "#print(gridsearch.best_params_)\n",
        "#grid_predictions = gridsearch.predict(X_test)\n",
        "\n",
        "\n",
        "#print(accuracy_score(y_test, grid_predictions))\n",
        "\n",
        "for clf, label in zip([clf1, clf2, clf3, clf4, clf5, clf6, clf7, clf8, clf9, clf10, clf11, clf12, clf13, eclf], ['Decision Tree', 'Ada Boost', 'Gradient Boosting', 'Logistic Regression', 'Random Forest', 'SVC', 'KNN', 'GaussianNB', 'BernoulliNB', 'MLP', 'CatBoost', 'XGBoost', 'LightGBM', 'Ensemble']):\n",
        "  clf.fit(X_train, y_train)\n",
        "  predictions = clf.predict(X_test)\n",
        "  print(\"Accuracy Score:\", accuracy_score(y_test, predictions), \"(+/- 0.01) [\" + label + \"]\")\n",
        "\n",
        "  if(clf == eclf):\n",
        "    new_model_accuracy.append(accuracy_score(y_test, predictions))"
      ]
    },
    {
      "cell_type": "code",
      "source": [
        "new_model_accuracy"
      ],
      "metadata": {
        "colab": {
          "base_uri": "https://localhost:8080/"
        },
        "id": "-3wq9yCWk50w",
        "outputId": "50907bc3-7ae4-4b80-fe0f-3538a8d2bde1"
      },
      "execution_count": null,
      "outputs": [
        {
          "output_type": "execute_result",
          "data": {
            "text/plain": [
              "[0.6532258064516129,\n",
              " 0.6820083682008368,\n",
              " 0.6497890295358649,\n",
              " 0.731404958677686,\n",
              " 0.5827067669172933,\n",
              " 0.7008196721311475,\n",
              " 0.65,\n",
              " 0.7017543859649122,\n",
              " 0.676923076923077,\n",
              " 0.6666666666666666,\n",
              " 0.6389891696750902,\n",
              " 0.714828897338403,\n",
              " 0.6854460093896714,\n",
              " 0.6517412935323383,\n",
              " 0.6796875,\n",
              " 0.6816479400749064,\n",
              " 0.6479400749063671,\n",
              " 0.6367041198501873]"
            ]
          },
          "metadata": {},
          "execution_count": 109
        }
      ]
    },
    {
      "cell_type": "code",
      "execution_count": null,
      "metadata": {
        "id": "vT-D2Rdu7O2r"
      },
      "outputs": [],
      "source": [
        "vegas_accuracy = [63.037, 64.727, 69.582, 60.3, 66.142, 68.352, 68.914, 65.918, 66.292, 64.607, 70.709, 67.228, 62.687, 64.684, 69.63, 65.45, 64.23]\n",
        "model_accuracy = [64.51612903225806, 67.78242677824268, 64.13502109704642, 72.72727272727273, 57.5187969924812, 68.85245901639344, 65.38461538461539, 69.73684210526315, 66.15384615384615, 66.66666666666666, 62.45487364620939, 70.72243346007605, 67.6056338028169, 64.17910447761194, 66.796875, 67.79026217228464, 64.04494382022472, 63.29588014981273]\n",
        "#per week accuracy\n",
        "model_week_accuracy = [0.6563876651982379, 0.6523297491039427, 0.6410256410256411, 0.6352941176470588, 0.6827309236947792, 0.6411290322580645, 0.6816326530612244, 0.7, 0.6416666666666667, 0.5863453815261044, 0.7433962264150943, 0.7052238805970149, 0.6702898550724637, 0.7035714285714286, 0.6851851851851852, 0.6398305084745762, 0.6884615384615385]\n",
        "#new accuracy using train/test split from per week accuracy model\n",
        "new_model_accuracy = [0.6532258064516129, 0.6820083682008368, 0.6497890295358649, 0.731404958677686, 0.5827067669172933, 0.7008196721311475, 0.65, 0.7017543859649122, 0.676923076923077, 0.6666666666666666, 0.6389891696750902, 0.714828897338403, 0.6854460093896714, 0.6517412935323383, 0.6796875, 0.6816479400749064, 0.6479400749063671, 0.6367041198501873]\n",
        "\n",
        "x_axis = [2003, 2004, 2005, 2006, 2007, 2008, 2009, 2010, 2011, 2012, 2013, 2014, 2015, 2016, 2017, 2018, 2019]\n",
        "x2_axis = [2002, 2003, 2004, 2005, 2006, 2007, 2008, 2009, 2010, 2011, 2012, 2013, 2014, 2015, 2016, 2017, 2018, 2019]\n",
        "\n",
        "vegas_total_accuracy = 66.227\n",
        "total_accuracy = 67.291\n",
        "\n",
        "#new_model_total_accuracy = 66.85\n",
        "#model_week_acc = 66.79\n",
        "\n",
        "f, ax = plt.subplots(figsize=(20,8))\n",
        "\n",
        "ax.plot(x_axis, vegas_accuracy, color = 'c', label = \"Vegas Accuracy (Average: \" + str(vegas_total_accuracy) + \"%)\", alpha = .8, marker = 'o', mfc = 'black', mew = 0)\n",
        "ax.plot(x2_axis, model_accuracy, color = 'orange', label = \"Custom Model Accuracy (Average: \" + str(total_accuracy) + \"%)\", alpha = 1, marker = 'o', mfc = 'black', mew = 0)\n",
        "ax.legend(loc = 'best', )\n",
        "\n",
        "plt.xticks(ticks=[2002, 2003, 2004, 2005, 2006, 2007, 2008, 2009, 2010, 2011, 2012, 2013, 2014, 2015, 2016, 2017, 2018, 2019, 2020, 2021])\n",
        "plt.yticks(ticks=[56, 57, 58, 59, 60, 61, 62, 63, 64, 65, 66, 67, 68, 69, 70, 71, 72, 73, 74])\n",
        "\n",
        "#plt.axhline(vegas_total_accuracy, alpha = 0.5, color = 'c', label = 'Vegas')\n",
        "#plt.axhline(total_accuracy, alpha = 0.5, color = 'orange', label = \"Homemade\")\n",
        "\n",
        "plt.ylabel(\"Prediction Accuracy (%)\")\n",
        "plt.xlabel(\"NFL Season\")\n",
        "plt.title(\"Comparing NFL Game Prediction Accuracy of Vegas Oddsmakers and Homemade Model\")\n",
        "plt.show()"
      ]
    },
    {
      "cell_type": "code",
      "execution_count": null,
      "metadata": {
        "id": "2n7AKZzzbzRD"
      },
      "outputs": [],
      "source": [
        "# Gridsearch\n",
        "\n",
        "def float_for_loop(start, stop, increment):\n",
        "    while start < stop:\n",
        "        yield start\n",
        "        start += increment\n"
      ]
    },
    {
      "cell_type": "code",
      "execution_count": null,
      "metadata": {
        "id": "SN3Z15Dh8Rlw"
      },
      "outputs": [],
      "source": [
        "max_accuracy = 0\n",
        "for n_estimators in range(1, 100):\n",
        "  for learning_rate in float_for_loop(0.01, 1, 0.01):\n",
        "    for max_depth in range(1,20):\n",
        "      clf3 = GradientBoostingClassifier(n_estimators = n_estimators, learning_rate = learning_rate, max_depth = max_depth, random_state = 0)\n",
        "      clf3.fit(X_train, y_train)\n",
        "      predictions = clf3.predict(X_test)\n",
        "      new_accuracy = accuracy_score(y_test, predictions)\n",
        "      if (new_accuracy > max_accuracy):\n",
        "        max_accuracy = new_accuracy\n",
        "        best_n_estimators = n_estimators\n",
        "        best_learning_rate = learning_rate\n",
        "        best_max_depth = max_depth"
      ]
    },
    {
      "cell_type": "code",
      "execution_count": null,
      "metadata": {
        "id": "AP_fDWBd75kt"
      },
      "outputs": [],
      "source": [
        "grid.cv_results_\n",
        "grid.best_estimator_\n",
        "grid.best_score_\n",
        "grid.best_params_"
      ]
    },
    {
      "cell_type": "code",
      "execution_count": null,
      "metadata": {
        "id": "pK3NgUVNdK1A"
      },
      "outputs": [],
      "source": [
        "from sklearn.metrics import roc_curve, auc\n",
        "\n",
        "min_samples_splits = np.linspace(0.9, 1.0, 5, endpoint=True)\n",
        "train_results = []\n",
        "test_results = []\n",
        "for min_samples_split in min_samples_splits:\n",
        "   model = GradientBoostingClassifier(min_samples_split=min_samples_split)\n",
        "   model.fit(X_train, y_train)\n",
        "   train_pred = model.predict(X_train)\n",
        "   false_positive_rate, true_positive_rate, thresholds = roc_curve(y_train, train_pred)\n",
        "   roc_auc = auc(false_positive_rate, true_positive_rate)\n",
        "   train_results.append(roc_auc)\n",
        "   y_pred = model.predict(X_test)\n",
        "   false_positive_rate, true_positive_rate, thresholds = roc_curve(y_test, y_pred)\n",
        "   roc_auc = auc(false_positive_rate, true_positive_rate)\n",
        "   test_results.append(roc_auc)\n",
        "from matplotlib.legend_handler import HandlerLine2D\n",
        "line1, = plt.plot(min_samples_splits, train_results, 'b', label=\"Train AUC\")\n",
        "line2, = plt.plot(min_samples_splits, test_results, 'r', label=\"Test AUC\")\n",
        "plt.legend(handler_map={line1: HandlerLine2D(numpoints=2)})\n",
        "plt.ylabel(\"AUC score\")\n",
        "plt.xlabel(\"min samples split\")\n",
        "plt.show()"
      ]
    },
    {
      "cell_type": "code",
      "execution_count": null,
      "metadata": {
        "colab": {
          "base_uri": "https://localhost:8080/",
          "height": 279
        },
        "id": "swLeLKB2tBEW",
        "outputId": "f18ff8e2-4bb1-44b6-b121-c2afe4e860d2"
      },
      "outputs": [
        {
          "data": {
            "image/png": "[encoded data removed]",
            "text/plain": [
              "<Figure size 432x288 with 2 Axes>"
            ]
          },
          "metadata": {},
          "output_type": "display_data"
        }
      ],
      "source": [
        "from sklearn.metrics import confusion_matrix, ConfusionMatrixDisplay\n",
        "\n",
        "cm = confusion_matrix(y_test, predictions)\n",
        "disp = ConfusionMatrixDisplay(confusion_matrix=cm, display_labels=[\"True\", \"False\"])\n",
        "\n",
        "disp.plot(cmap='Oranges');"
      ]
    },
    {
      "cell_type": "code",
      "execution_count": null,
      "metadata": {
        "colab": {
          "base_uri": "https://localhost:8080/",
          "height": 591
        },
        "id": "9GXElbnvbsyo",
        "outputId": "7e8f80bf-5df1-409e-8251-df245847b9c8"
      },
      "outputs": [
        {
          "data": {
            "text/plain": [
              "<sklearn.metrics._plot.confusion_matrix.ConfusionMatrixDisplay at 0x7f00cfe500d0>"
            ]
          },
          "execution_count": 30,
          "metadata": {},
          "output_type": "execute_result"
        },
        {
          "data": {
            "image/png": "[encoded data removed]",
            "text/plain": [
              "<Figure size 720x720 with 2 Axes>"
            ]
          },
          "metadata": {},
          "output_type": "display_data"
        }
      ],
      "source": [
        "cm = confusion_matrix(y_test, predictions)\n",
        "disp = ConfusionMatrixDisplay(confusion_matrix=cm, display_labels=[\"True\", \"False\"])\n",
        "fig, ax = plt.subplots(figsize=(10,10))\n",
        "cmp.plot(cmap = 'Oranges', ax=ax)"
      ]
    },
    {
      "cell_type": "code",
      "execution_count": null,
      "metadata": {
        "id": "15z75iuqaPnR"
      },
      "outputs": [],
      "source": [
        "#QBR_plot = df2['Home QBR'].plot()\n",
        "#QBR_plot.set_xlabel('Sample #')\n",
        "#QBR_plot.set_ylabel('QB Rating')\n",
        "#QBR_plot.set_title('QB Rating For Every Game')\n",
        "#plt.show()\n",
        "\n",
        "#sns.scatterplot(x='Home QBR', y=\"Away QBR\", data=df2);\n",
        "\n",
        "#sns.distplot(x = df2['Home QBR'], bins = 10)\n",
        "\n",
        "#sns.stripplot(y = df2['Dif PPG'], x = df2['Home Favored'])\n",
        "df_1 = df[df['Season'] == 2019]\n",
        "#sns.scatterplot(x = df_1['Dif PPG'], y = df_1['Dif PTS Allowed'], hue = df_1['Home Win'])\n",
        "df_1.describe()"
      ]
    },
    {
      "cell_type": "code",
      "execution_count": null,
      "metadata": {
        "id": "YazSCeBAJ75K"
      },
      "outputs": [],
      "source": [
        "import seaborn as sns\n",
        "import plotly.express as px\n",
        "\n",
        "#filter\n",
        "#df = df[df['roles'] == 'Student']\n",
        "#df = df[df['mode'] == 'verified']\n",
        "#df[\"passed_class\"] = np.where(df['grade'] >= 0.55, 1, 0)\n",
        "\n",
        "#grab columns that you want\n",
        "df_1 = df[[\"Home QBR\", \"Home PPG\", \"Home TO\", \"Home Win PCT\", \"Home Total Yards\", \"Home Yards Allowed\", \"Home TOP\", \"Home Penalties\", \"Home Win\"]]\n",
        "\n",
        "#get orrelation matrix\n",
        "corrMatrix = df_1.corr()\n",
        "\n",
        "#plot correlation matrix\n",
        "sns.heatmap(corrMatrix, annot=True)\n",
        "sns.set(font_scale=0.8)\n",
        "plt.title(\"Passing Correlation - Verified\", fontsize=15)\n",
        "plt.show()\n",
        "\n",
        "\n",
        "\n",
        "#easy way to grab wanted columns\n",
        "#labels = [\"Home QBR\", \"Home PPG\", \"Home TO\", \"Home Win PCT\"]\n",
        "\n",
        "#plot scatter matrix\n",
        "#fig = px.scatter_matrix(df, dimensions=labels, color=\"Home Win\")\n",
        "#fig.show()\n"
      ]
    },
    {
      "cell_type": "code",
      "execution_count": null,
      "metadata": {
        "colab": {
          "base_uri": "https://localhost:8080/"
        },
        "id": "FxN9eXU3rUmM",
        "outputId": "e45f5069-a2ef-41e6-fc03-373b91aa3033"
      },
      "outputs": [
        {
          "name": "stdout",
          "output_type": "stream",
          "text": [
            "Accuracy: 0.6254681647940075 (+/- 0.01) [Decision Tree]\n",
            "Accuracy: 0.6142322097378277 (+/- 0.01) [Ada Boost]\n",
            "Accuracy: 0.599250936329588 (+/- 0.01) [Gradient Boosting]\n",
            "Accuracy: 0.5767790262172284 (+/- 0.01) [Logistic Regression]\n"
          ]
        },
        {
          "name": "stderr",
          "output_type": "stream",
          "text": [
            "/usr/local/lib/python3.7/dist-packages/sklearn/linear_model/_logistic.py:818: ConvergenceWarning: lbfgs failed to converge (status=1):\n",
            "STOP: TOTAL NO. of ITERATIONS REACHED LIMIT.\n",
            "\n",
            "Increase the number of iterations (max_iter) or scale the data as shown in:\n",
            "    https://scikit-learn.org/stable/modules/preprocessing.html\n",
            "Please also refer to the documentation for alternative solver options:\n",
            "    https://scikit-learn.org/stable/modules/linear_model.html#logistic-regression\n",
            "  extra_warning_msg=_LOGISTIC_SOLVER_CONVERGENCE_MSG,\n"
          ]
        },
        {
          "name": "stdout",
          "output_type": "stream",
          "text": [
            "Accuracy: 0.6292134831460674 (+/- 0.01) [Random Forest]\n",
            "Accuracy: 0.5730337078651685 (+/- 0.01) [SVC]\n",
            "Accuracy: 0.5730337078651685 (+/- 0.01) [KNN]\n",
            "Accuracy: 0.6479400749063671 (+/- 0.01) [GaussianNB]\n",
            "Accuracy: 0.6441947565543071 (+/- 0.01) [BernoulliNB]\n"
          ]
        },
        {
          "name": "stderr",
          "output_type": "stream",
          "text": [
            "/usr/local/lib/python3.7/dist-packages/sklearn/neural_network/_multilayer_perceptron.py:696: ConvergenceWarning: Stochastic Optimizer: Maximum iterations (70) reached and the optimization hasn't converged yet.\n",
            "  ConvergenceWarning,\n"
          ]
        },
        {
          "name": "stdout",
          "output_type": "stream",
          "text": [
            "Accuracy: 0.6179775280898876 (+/- 0.01) [MLP]\n"
          ]
        },
        {
          "name": "stderr",
          "output_type": "stream",
          "text": [
            "/usr/local/lib/python3.7/dist-packages/sklearn/linear_model/_logistic.py:818: ConvergenceWarning: lbfgs failed to converge (status=1):\n",
            "STOP: TOTAL NO. of ITERATIONS REACHED LIMIT.\n",
            "\n",
            "Increase the number of iterations (max_iter) or scale the data as shown in:\n",
            "    https://scikit-learn.org/stable/modules/preprocessing.html\n",
            "Please also refer to the documentation for alternative solver options:\n",
            "    https://scikit-learn.org/stable/modules/linear_model.html#logistic-regression\n",
            "  extra_warning_msg=_LOGISTIC_SOLVER_CONVERGENCE_MSG,\n",
            "/usr/local/lib/python3.7/dist-packages/sklearn/neural_network/_multilayer_perceptron.py:696: ConvergenceWarning: Stochastic Optimizer: Maximum iterations (70) reached and the optimization hasn't converged yet.\n",
            "  ConvergenceWarning,\n"
          ]
        },
        {
          "name": "stdout",
          "output_type": "stream",
          "text": [
            "Accuracy: 0.6329588014981273 (+/- 0.01) [Ensemble]\n"
          ]
        }
      ],
      "source": [
        "# Voting Classifier 2018\n",
        "\n",
        "from sklearn.tree import DecisionTreeClassifier\n",
        "from sklearn.neighbors import KNeighborsClassifier\n",
        "from sklearn.ensemble import RandomForestClassifier #n_estimators = 80\n",
        "from sklearn.svm import SVC\n",
        "from sklearn.ensemble import GradientBoostingClassifier #66.55%: n_estimators = 12, learning_rate = 0.05, max_depth = 1, random_state = 0\n",
        "from sklearn.ensemble import AdaBoostClassifier #66.55%: n_estimators = 3\n",
        "from sklearn.linear_model import LogisticRegression\n",
        "from sklearn.naive_bayes import GaussianNB\n",
        "from sklearn.naive_bayes import BernoulliNB\n",
        "from sklearn.neural_network import MLPClassifier\n",
        "from itertools import product\n",
        "from sklearn.model_selection import cross_val_score\n",
        "from sklearn.ensemble import VotingClassifier\n",
        "from sklearn.model_selection import GridSearchCV\n",
        "\n",
        "# Training classifiers\n",
        "clf1 = DecisionTreeClassifier(max_depth = 4, min_samples_split = 12, random_state = 0)\n",
        "\n",
        "clf2 = AdaBoostClassifier(n_estimators = 5, learning_rate = 1.85, random_state = 0)\n",
        "\n",
        "clf3 = GradientBoostingClassifier(n_estimators = 116, learning_rate = .65, max_depth = 1, min_samples_split = 14, random_state = 0)\n",
        "\n",
        "clf4 = LogisticRegression(C = 0.09, random_state = 0)\n",
        "\n",
        "clf5 = RandomForestClassifier(n_estimators = 243, max_depth = 17, random_state=0, min_samples_split = 2)\n",
        "\n",
        "clf6 = SVC(C = 20, kernel = \"rbf\", probability = True, random_state = 0)\n",
        "\n",
        "clf7 = KNeighborsClassifier(n_neighbors = 143)\n",
        "\n",
        "clf8 = GaussianNB()\n",
        "\n",
        "clf9 = BernoulliNB(alpha = 12, fit_prior = False)\n",
        "\n",
        "clf10 = MLPClassifier(alpha = 112, max_iter = 70, random_state = 0)\n",
        "\n",
        "eclf = VotingClassifier(estimators=[('dt', clf1), ('ab', clf2), ('gb', clf3), ('lr', clf4), ('rf', clf5), ('svc', clf6), ('knn', clf7), ('gnb', clf8), ('bnb', clf9), ('MLP',clf10)], voting='hard')\n",
        "\n",
        "#params = {'svc__C': [.1, 1, 10, 100], 'svc__kernel': ['linear', 'rbf'], 'rf__n_estimators': [20, 40, 60, 80, 100, 120, 140, 160, 180, 200], 'knn__n_neighbors': [1, 5, 10, 20, 30, 40, 50], 'dt__max_depth': [1, 5, 10, 20, 30, 40,  50], 'dt__min_samples_split': [1, 5, 10, 20, 30, 40, 50], 'ab__n_estimators': [1, 5, 10, 20, 30, 40, 50], 'ab__learning_rate': [0.01, .1, .2, .4, .6, .8, 1], 'gb__n_estimators':[1, 5, 10, 20, 30, 40, 50], 'gb__learning_rate': [0.01, .1, .2, .4, .6, .8, 1], 'gb__max_depth': [1, 5, 10, 20, 30, 40,  50], 'gb__min_samples_split': [1, 5, 10, 20, 30, 40, 50]}\n",
        "\n",
        "#grid = GridSearchCV(estimator=eclf, param_grid=params, cv=5)\n",
        "#gridsearch = grid.fit(X_train, y_train)\n",
        "\n",
        "#print(gridsearch.best_params_)\n",
        "#grid_predictions = gridsearch.predict(X_test)\n",
        "\n",
        "#print(accuracy_score(y_test, grid_predictions))\n",
        "\n",
        "for clf, label in zip([clf1, clf2, clf3, clf4, clf5, clf6, clf7, clf8, clf9, clf10, eclf], ['Decision Tree', 'Ada Boost', 'Gradient Boosting', 'Logistic Regression', 'Random Forest', 'SVC', 'KNN', 'GaussianNB', 'BernoulliNB', 'MLP', 'Ensemble']):\n",
        "  clf.fit(X_train, y_train)\n",
        "  predictions = clf.predict(X_test)\n",
        "  print(\"Accuracy:\", accuracy_score(y_test, predictions), \"(+/- 0.01) [\" + label + \"]\")"
      ]
    },
    {
      "cell_type": "code",
      "execution_count": null,
      "metadata": {
        "colab": {
          "base_uri": "https://localhost:8080/"
        },
        "id": "89VwZo5Tfpwd",
        "outputId": "5316dc5f-60c2-43fa-de74-1a479364b9f3"
      },
      "outputs": [
        {
          "name": "stdout",
          "output_type": "stream",
          "text": [
            "Accuracy: 0.6329588014981273 (+/- 0.01) [Decision Tree]\n",
            "Accuracy: 0.6292134831460674 (+/- 0.01) [Ada Boost]\n",
            "Accuracy: 0.6179775280898876 (+/- 0.01) [Gradient Boosting]\n"
          ]
        },
        {
          "name": "stderr",
          "output_type": "stream",
          "text": [
            "/usr/local/lib/python3.7/dist-packages/sklearn/linear_model/_logistic.py:818: ConvergenceWarning: lbfgs failed to converge (status=1):\n",
            "STOP: TOTAL NO. of ITERATIONS REACHED LIMIT.\n",
            "\n",
            "Increase the number of iterations (max_iter) or scale the data as shown in:\n",
            "    https://scikit-learn.org/stable/modules/preprocessing.html\n",
            "Please also refer to the documentation for alternative solver options:\n",
            "    https://scikit-learn.org/stable/modules/linear_model.html#logistic-regression\n",
            "  extra_warning_msg=_LOGISTIC_SOLVER_CONVERGENCE_MSG,\n"
          ]
        },
        {
          "name": "stdout",
          "output_type": "stream",
          "text": [
            "Accuracy: 0.602996254681648 (+/- 0.01) [Logistic Regression]\n",
            "Accuracy: 0.6367041198501873 (+/- 0.01) [Random Forest]\n",
            "Accuracy: 0.6329588014981273 (+/- 0.01) [SVC]\n",
            "Accuracy: 0.599250936329588 (+/- 0.01) [KNN]\n",
            "Accuracy: 0.651685393258427 (+/- 0.01) [GaussianNB]\n",
            "Accuracy: 0.6292134831460674 (+/- 0.01) [BernoulliNB]\n"
          ]
        },
        {
          "name": "stderr",
          "output_type": "stream",
          "text": [
            "/usr/local/lib/python3.7/dist-packages/sklearn/neural_network/_multilayer_perceptron.py:696: ConvergenceWarning: Stochastic Optimizer: Maximum iterations (41) reached and the optimization hasn't converged yet.\n",
            "  ConvergenceWarning,\n"
          ]
        },
        {
          "name": "stdout",
          "output_type": "stream",
          "text": [
            "Accuracy: 0.602996254681648 (+/- 0.01) [MLP]\n"
          ]
        },
        {
          "name": "stderr",
          "output_type": "stream",
          "text": [
            "/usr/local/lib/python3.7/dist-packages/sklearn/linear_model/_logistic.py:818: ConvergenceWarning: lbfgs failed to converge (status=1):\n",
            "STOP: TOTAL NO. of ITERATIONS REACHED LIMIT.\n",
            "\n",
            "Increase the number of iterations (max_iter) or scale the data as shown in:\n",
            "    https://scikit-learn.org/stable/modules/preprocessing.html\n",
            "Please also refer to the documentation for alternative solver options:\n",
            "    https://scikit-learn.org/stable/modules/linear_model.html#logistic-regression\n",
            "  extra_warning_msg=_LOGISTIC_SOLVER_CONVERGENCE_MSG,\n"
          ]
        },
        {
          "name": "stdout",
          "output_type": "stream",
          "text": [
            "Accuracy: 0.6329588014981273 (+/- 0.01) [Ensemble]\n"
          ]
        },
        {
          "name": "stderr",
          "output_type": "stream",
          "text": [
            "/usr/local/lib/python3.7/dist-packages/sklearn/neural_network/_multilayer_perceptron.py:696: ConvergenceWarning: Stochastic Optimizer: Maximum iterations (41) reached and the optimization hasn't converged yet.\n",
            "  ConvergenceWarning,\n"
          ]
        }
      ],
      "source": [
        "# Voting Classifier 2017\n",
        "\n",
        "from sklearn.tree import DecisionTreeClassifier\n",
        "from sklearn.neighbors import KNeighborsClassifier\n",
        "from sklearn.ensemble import RandomForestClassifier #n_estimators = 80\n",
        "from sklearn.svm import SVC\n",
        "from sklearn.ensemble import GradientBoostingClassifier #66.55%: n_estimators = 12, learning_rate = 0.05, max_depth = 1, random_state = 0\n",
        "from sklearn.ensemble import AdaBoostClassifier #66.55%: n_estimators = 3\n",
        "from sklearn.linear_model import LogisticRegression\n",
        "from sklearn.naive_bayes import GaussianNB\n",
        "from sklearn.naive_bayes import BernoulliNB\n",
        "from sklearn.neural_network import MLPClassifier\n",
        "from itertools import product\n",
        "from sklearn.model_selection import cross_val_score\n",
        "from sklearn.ensemble import VotingClassifier\n",
        "from sklearn.model_selection import GridSearchCV\n",
        "\n",
        "# Training classifiers\n",
        "clf1 = DecisionTreeClassifier(max_depth = 3, min_samples_split = 12, random_state = 0)\n",
        "\n",
        "clf2 = AdaBoostClassifier(n_estimators = 10, learning_rate = 1.85, random_state = 0)\n",
        "\n",
        "clf3 = GradientBoostingClassifier(n_estimators = 3, learning_rate = .65, max_depth = 4, min_samples_split = 40, random_state = 0)\n",
        "\n",
        "clf4 = LogisticRegression(C = .05, random_state = 0)\n",
        "\n",
        "clf5 = RandomForestClassifier(n_estimators = 120, max_depth = 5, random_state=0, min_samples_split = 2)\n",
        "\n",
        "clf6 = SVC(C = 19, kernel = \"poly\", degree = 1, probability = True, random_state = 0)\n",
        "\n",
        "clf7 = KNeighborsClassifier(n_neighbors = 102)\n",
        "\n",
        "clf8 = GaussianNB()\n",
        "\n",
        "clf9 = BernoulliNB(alpha = k, fit_prior = False)\n",
        "\n",
        "clf10 = MLPClassifier(alpha = 4, max_iter = 41, random_state = 0)\n",
        "\n",
        "eclf = VotingClassifier(estimators=[('dt', clf1), ('ab', clf2), ('gb', clf3), ('lr', clf4), ('rf', clf5), ('svc', clf6), ('knn', clf7), ('gnb', clf8), ('bnb', clf9), ('MLP',clf10)], voting='hard')\n",
        "\n",
        "#params = {'svc__C': [.1, 1, 10, 100], 'svc__kernel': ['linear', 'rbf'], 'rf__n_estimators': [20, 40, 60, 80, 100, 120, 140, 160, 180, 200], 'knn__n_neighbors': [1, 5, 10, 20, 30, 40, 50], 'dt__max_depth': [1, 5, 10, 20, 30, 40,  50], 'dt__min_samples_split': [1, 5, 10, 20, 30, 40, 50], 'ab__n_estimators': [1, 5, 10, 20, 30, 40, 50], 'ab__learning_rate': [0.01, .1, .2, .4, .6, .8, 1], 'gb__n_estimators':[1, 5, 10, 20, 30, 40, 50], 'gb__learning_rate': [0.01, .1, .2, .4, .6, .8, 1], 'gb__max_depth': [1, 5, 10, 20, 30, 40,  50], 'gb__min_samples_split': [1, 5, 10, 20, 30, 40, 50]}\n",
        "\n",
        "#grid = GridSearchCV(estimator=eclf, param_grid=params, cv=5)\n",
        "#gridsearch = grid.fit(X_train, y_train)\n",
        "\n",
        "#print(gridsearch.best_params_)\n",
        "#grid_predictions = gridsearch.predict(X_test)\n",
        "\n",
        "#print(accuracy_score(y_test, grid_predictions))\n",
        "\n",
        "for clf, label in zip([clf1, clf2, clf3, clf4, clf5, clf6, clf7, clf8, clf9, clf10, eclf], ['Decision Tree', 'Ada Boost', 'Gradient Boosting', 'Logistic Regression', 'Random Forest', 'SVC', 'KNN', 'GaussianNB', 'BernoulliNB', 'MLP', 'Ensemble']):\n",
        "  clf.fit(X_train, y_train)\n",
        "  predictions = clf.predict(X_test)\n",
        "  print(\"Accuracy:\", accuracy_score(y_test, predictions), \"(+/- 0.01) [\" + label + \"]\")"
      ]
    }
  ],
  "metadata": {
    "colab": {
      "provenance": [],
      "authorship_tag": "ABX9TyOTNaDqTQt3tR0fx9C/8l8B",
      "include_colab_link": true
    },
    "kernelspec": {
      "display_name": "Python 3",
      "name": "python3"
    },
    "language_info": {
      "name": "python"
    }
  },
  "nbformat": 4,
  "nbformat_minor": 0
}